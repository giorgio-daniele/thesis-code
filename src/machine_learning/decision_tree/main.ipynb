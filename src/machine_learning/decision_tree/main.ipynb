{
 "cells": [
  {
   "cell_type": "code",
   "execution_count": 102,
   "metadata": {},
   "outputs": [],
   "source": [
    "import os\n",
    "import random\n",
    "import numpy   as np\n",
    "import seaborn as sns\n",
    "import pandas  as pd\n",
    "import joblib\n",
    "\n",
    "from typing import Dict\n",
    "\n",
    "# Machine learning methods\n",
    "from sklearn            import tree\n",
    "from sklearn.tree       import plot_tree\n",
    "from sklearn.tree       import export_text\n",
    "from sklearn.tree       import DecisionTreeClassifier\n",
    "from sklearn.metrics    import accuracy_score\n",
    "from sklearn.metrics    import confusion_matrix\n",
    "from sklearn.metrics    import classification_report\n",
    "from sklearn.metrics    import f1_score\n",
    "\n",
    "from collections import defaultdict\n",
    "from concurrent.futures import ProcessPoolExecutor\n",
    "\n",
    "# Plotting utilities\n",
    "import matplotlib.pyplot as plt\n",
    "\n",
    "# Import formatter\n",
    "from matplotlib.ticker import FuncFormatter"
   ]
  },
  {
   "cell_type": "code",
   "execution_count": 103,
   "metadata": {},
   "outputs": [],
   "source": [
    "# Constants\n",
    "N = 25\n",
    "K = 20\n",
    "\n",
    "VALUES = [0, 1, 2, 3]\n",
    "LABELS = [\"LD\", \"SD\", \"HD\", \"FULL-HD\"]\n",
    "COLORS = [\"black\", \"red\", \"green\", \"blue\"]\n",
    "\n",
    "# Define the name of the new columns\n",
    "NUMBER          = \"id\"\n",
    "CLASS           = \"class\"\n",
    "PREDICTED_CLASS = \"predicted_class\"\n",
    "TESTBED_RATE    = \"testbed_rate\"\n",
    "AVG_VIDEO_RATE  = \"avg_video_rate\""
   ]
  },
  {
   "cell_type": "code",
   "execution_count": 104,
   "metadata": {},
   "outputs": [],
   "source": [
    "def get_video_class(kbits: float) -> int:\n",
    "    if 0 <= kbits <= 288:\n",
    "        return 0  # LD\n",
    "    elif 289 <= kbits <= 1500:\n",
    "        return 1  # SD\n",
    "    elif 1501 <= kbits <= 6500:\n",
    "        return 2  # HD\n",
    "    elif 6501 <= kbits <= 8000:\n",
    "        return 3  # FULL-HD\n",
    "    \n",
    "def format_bytes(num_bytes: float) -> str:\n",
    "    units = ['B', 'KB', 'MB', 'GB', 'TB']\n",
    "    size  = float(num_bytes)\n",
    "\n",
    "    for unit in units:\n",
    "        if size < 1024:\n",
    "            return f\"{size:.2f} {unit}\"\n",
    "        size /= 1024\n",
    "    return f\"{size:.2f} {units[-1]}\""
   ]
  },
  {
   "cell_type": "code",
   "execution_count": 105,
   "metadata": {},
   "outputs": [],
   "source": [
    "# Define directories\n",
    "dir = os.path.join(os.path.dirname(os.getcwd()), \"tcp\")"
   ]
  },
  {
   "cell_type": "code",
   "execution_count": 106,
   "metadata": {},
   "outputs": [],
   "source": [
    "# Define the rate of the experiments\n",
    "rates = [\"1500kbits\", \"3000kbits\", \"4500kbits\", \"6000kbits\", \"7500kbits\", \"50000kbits\"]"
   ]
  },
  {
   "cell_type": "code",
   "execution_count": 107,
   "metadata": {},
   "outputs": [],
   "source": [
    "# Define dictionary for staging data\n",
    "data : Dict[str, list[str]] = {}"
   ]
  },
  {
   "cell_type": "code",
   "execution_count": 108,
   "metadata": {},
   "outputs": [],
   "source": [
    "# For each rate, get N samples\n",
    "for rate in rates:\n",
    "    data[rate] = [os.path.join(dir, rate, file) for file in os.listdir(os.path.join(dir, rate))]"
   ]
  },
  {
   "cell_type": "code",
   "execution_count": 109,
   "metadata": {},
   "outputs": [],
   "source": [
    "# For each rate, create training set and testing set\n",
    "tests = []"
   ]
  },
  {
   "cell_type": "code",
   "execution_count": 110,
   "metadata": {},
   "outputs": [
    {
     "name": "stdout",
     "output_type": "stream",
     "text": [
      "[TESTING SET]: number of streaming periods = 120 over 6 bandwidth\n"
     ]
    }
   ],
   "source": [
    "for rate in rates:\n",
    "    \n",
    "    # Get k random samples at each rate\n",
    "    random_samples = random.sample(data[rate], K)\n",
    "\n",
    "    # Generate the training set\n",
    "    for sample in random_samples:\n",
    "        frame = pd.read_csv(sample, sep=\" \")\n",
    "        frame[CLASS] = frame[AVG_VIDEO_RATE].apply(get_video_class)\n",
    "        tests.append(frame)\n",
    "        \n",
    "print(f\"[TESTING SET]: number of streaming periods = {len(tests)} over {len(rates)} bandwidth\")"
   ]
  },
  {
   "cell_type": "code",
   "execution_count": 111,
   "metadata": {},
   "outputs": [],
   "source": [
    "features = []\n",
    "for i in range(0, 10):    \n",
    "    # Volumetric metrics\n",
    "    features.append(f\"s_bytes_all_#{i}\")\n",
    "    features.append(f\"c_bytes_all_#{i}\")\n",
    "    # features.append(f\"s_ack_cnt_#{i}\")\n",
    "    # features.append(f\"c_ack_cnt_#{i}\")\n",
    "    # features.append(f\"s_ack_cnt_p_#{i}\")\n",
    "    # features.append(f\"c_ack_cnt_p_#{i}\")\n",
    "\n",
    "    # Temporal metrics\n",
    "    features.append(f\"idle_#{i}\")\n",
    "    features.append(f\"max_span_#{i}\")\n",
    "    features.append(f\"min_span_#{i}\")\n",
    "    features.append(f\"avg_span_#{i}\")\n",
    "    features.append(f\"std_span_#{i}\")\n",
    "\n",
    "# Volumetric metrics (outer columns)\n",
    "features.append(f\"s_bytes_all\")\n",
    "features.append(f\"c_bytes_all\")\n",
    "# features.append(f\"s_ack_cnt\")\n",
    "# features.append(f\"c_ack_cnt\")\n",
    "# features.append(f\"s_ack_cnt_p\")\n",
    "# features.append(f\"c_ack_cnt_p\")\n",
    "\n",
    "# Temporal metrics (outer columns)\n",
    "features.append(f\"idle\")\n",
    "features.append(f\"max_span\")\n",
    "features.append(f\"min_span\")\n",
    "features.append(f\"avg_span\")\n",
    "features.append(f\"std_span\")"
   ]
  },
  {
   "cell_type": "code",
   "execution_count": 112,
   "metadata": {},
   "outputs": [],
   "source": [
    "\n",
    "# Load the UDP model\n",
    "model = joblib.load(os.path.join(\"model_udp\", \"saved_models\", \"udp_model.pkl\"))"
   ]
  },
  {
   "cell_type": "code",
   "execution_count": 113,
   "metadata": {},
   "outputs": [
    {
     "name": "stdout",
     "output_type": "stream",
     "text": [
      "   s_bytes_all_#0  c_bytes_all_#0      idle_#0  max_span_#0  min_span_#0  \\\n",
      "0        0.000000        0.000000  1000.000000     0.000000     0.000000   \n",
      "1    10058.868660      346.630107    25.081055   929.943000    32.440918   \n",
      "2   144968.499261     4406.140179     0.000000   684.536912   202.002000   \n",
      "3     2916.000000      820.000000   938.436000    61.564000    61.564000   \n",
      "4     4317.000000      820.000000   946.863000    53.034000     0.103000   \n",
      "\n",
      "   avg_span_#0  std_span_#0  s_bytes_all_#1  c_bytes_all_#1      idle_#1  ...  \\\n",
      "0     0.000000     0.000000        0.000000        0.000000  1000.000000  ...   \n",
      "1   430.912966   457.122990    97124.831686     1950.444147     0.000000  ...   \n",
      "2   397.570344   253.919696    26719.319079      655.321234   758.944219  ...   \n",
      "3    61.564000          NaN     1400.000000        0.000000   999.896000  ...   \n",
      "4    26.568500    37.427869     1400.000000        0.000000   999.895000  ...   \n",
      "\n",
      "   min_span_#9  avg_span_#9  std_span_#9    s_bytes_all  c_bytes_all  \\\n",
      "0    26.522881   377.316488   496.097077  199467.000000  14698.00000   \n",
      "1   310.090088   411.078536   153.080174  551150.546382  12976.41385   \n",
      "2   266.762000   413.043930   129.967198  560847.453618  15374.58615   \n",
      "3   114.601061   159.958479    64.145076  443762.000000  12929.00000   \n",
      "4    80.882080   100.578471    21.474815  414907.141180  12089.00000   \n",
      "\n",
      "          idle  max_span  min_span    avg_span    std_span  \n",
      "0  6859.514678   984.890   116.175  605.355000  374.559075  \n",
      "1  1384.639086   992.328    64.767  696.406623  278.613440  \n",
      "2  4071.101221   999.835     0.104  529.082807  368.434558  \n",
      "3  6897.341801   959.748     0.083  399.577357  401.472110  \n",
      "4  5624.745854   998.834     0.044  348.802741  392.647561  \n",
      "\n",
      "[5 rows x 77 columns]\n",
      "[Statitics, classifing TCP-bases HAS flows using UDP-based trained model]\n",
      "\tNumber of tested streaming periods: 120, which are 3581\n",
      "\tMax Accuracy: 1.00%\n",
      "\tMin Accuracy: 0.50%\n",
      "\tAvg Accuracy: 0.93%\n",
      "\tStd Deviation: 0.09%\n"
     ]
    }
   ],
   "source": [
    "# Initialize a list to store the scores\n",
    "scores = []\n",
    "\n",
    "points = 0\n",
    "\n",
    "# Test the UDP model with TCP-based streaming periods\n",
    "for num, test in enumerate(tests):\n",
    "    x_test = test[features]\n",
    "    y_test = test[CLASS]\n",
    "    \n",
    "    if num == 1:\n",
    "        print(x_test.head())\n",
    "    \n",
    "    points += len(x_test)\n",
    "    \n",
    "    # Test the model\n",
    "    preds = model.predict(x_test)\n",
    "    score = accuracy_score(y_test, preds)\n",
    "    scores.append(score)  # Save the score\n",
    "    \n",
    "    # I have 120 streaming periods acoross different rates\n",
    "    # what I do is taking each test and requesting the decision\n",
    "    # tree to classify it\n",
    "    \n",
    "    #print(f\"[TEST N° {num}] scored accuracy = {score:.2f}%\")\n",
    "\n",
    "# Calculate and print statistics\n",
    "max_score = max(scores)\n",
    "min_score = min(scores)\n",
    "avg_score = np.mean(scores)\n",
    "std_dev   = np.std(scores)\n",
    "\n",
    "print(\"[Statitics, classifing TCP-bases HAS flows using UDP-based trained model]\")\n",
    "print(f\"\\tNumber of tested streaming periods: {len(tests)}, which are {points}\")\n",
    "print(f\"\\tMax Accuracy: {max_score:.2f}%\")\n",
    "print(f\"\\tMin Accuracy: {min_score:.2f}%\")\n",
    "print(f\"\\tAvg Accuracy: {avg_score:.2f}%\")\n",
    "print(f\"\\tStd Deviation: {std_dev:.2f}%\")"
   ]
  },
  {
   "cell_type": "code",
   "execution_count": 114,
   "metadata": {},
   "outputs": [],
   "source": [
    "# Define directories\n",
    "dir = os.path.join(os.path.dirname(os.getcwd()), \"udp\")"
   ]
  },
  {
   "cell_type": "code",
   "execution_count": 115,
   "metadata": {},
   "outputs": [],
   "source": [
    "# Define dictionary for staging data\n",
    "data : Dict[str, list[str]] = {}"
   ]
  },
  {
   "cell_type": "code",
   "execution_count": 116,
   "metadata": {},
   "outputs": [],
   "source": [
    "# For each rate, get N samples\n",
    "for rate in rates:\n",
    "    data[rate] = [os.path.join(dir, rate, file) for file in os.listdir(os.path.join(dir, rate))]"
   ]
  },
  {
   "cell_type": "code",
   "execution_count": 117,
   "metadata": {},
   "outputs": [],
   "source": [
    "# For each rate, create training set and testing set\n",
    "tests = []"
   ]
  },
  {
   "cell_type": "code",
   "execution_count": 118,
   "metadata": {},
   "outputs": [
    {
     "name": "stdout",
     "output_type": "stream",
     "text": [
      "[TESTING SET]: number of streaming periods = 120 over 6 bandwidth\n"
     ]
    }
   ],
   "source": [
    "for rate in rates:\n",
    "    \n",
    "    # Get k random samples at each rate\n",
    "    random_samples = random.sample(data[rate], K)\n",
    "\n",
    "    # Generate the training set\n",
    "    for sample in random_samples:\n",
    "        frame = pd.read_csv(sample, sep=\" \")\n",
    "        frame[CLASS] = frame[AVG_VIDEO_RATE].apply(get_video_class)\n",
    "        tests.append(frame)\n",
    "        \n",
    "print(f\"[TESTING SET]: number of streaming periods = {len(tests)} over {len(rates)} bandwidth\")"
   ]
  },
  {
   "cell_type": "code",
   "execution_count": 119,
   "metadata": {},
   "outputs": [],
   "source": [
    "features = []\n",
    "for i in range(0, 10):    \n",
    "    # Volumetric metrics\n",
    "    features.append(f\"s_bytes_all_#{i}\")\n",
    "    features.append(f\"c_bytes_all_#{i}\")\n",
    "    features.append(f\"s_ack_cnt_#{i}\")\n",
    "    features.append(f\"c_ack_cnt_#{i}\")\n",
    "    features.append(f\"s_ack_cnt_p_#{i}\")\n",
    "    features.append(f\"c_ack_cnt_p_#{i}\")\n",
    "\n",
    "    # Temporal metrics\n",
    "    features.append(f\"idle_#{i}\")\n",
    "    features.append(f\"max_span_#{i}\")\n",
    "    features.append(f\"min_span_#{i}\")\n",
    "    features.append(f\"avg_span_#{i}\")\n",
    "    features.append(f\"std_span_#{i}\")\n",
    "\n",
    "# Volumetric metrics (outer columns)\n",
    "features.append(f\"s_bytes_all\")\n",
    "features.append(f\"c_bytes_all\")\n",
    "features.append(f\"s_ack_cnt\")\n",
    "features.append(f\"c_ack_cnt\")\n",
    "features.append(f\"s_ack_cnt_p\")\n",
    "features.append(f\"c_ack_cnt_p\")\n",
    "\n",
    "# Temporal metrics (outer columns)\n",
    "features.append(f\"idle\")\n",
    "features.append(f\"max_span\")\n",
    "features.append(f\"min_span\")\n",
    "features.append(f\"avg_span\")\n",
    "features.append(f\"std_span\")"
   ]
  },
  {
   "cell_type": "code",
   "execution_count": 120,
   "metadata": {},
   "outputs": [],
   "source": [
    "# Load the TCP model\n",
    "model = joblib.load(os.path.join(\"model_tcp\", \"saved_models\", \"tcp_model.pkl\"))"
   ]
  },
  {
   "cell_type": "code",
   "execution_count": 121,
   "metadata": {},
   "outputs": [
    {
     "name": "stdout",
     "output_type": "stream",
     "text": [
      "[Statitics, classifing UDP-bases HAS flows using TCP-based trained model]\n",
      "\tMax Accuracy: 1.00%\n",
      "\tMin Accuracy: 0.57%\n",
      "\tAvg Accuracy: 0.94%\n",
      "\tStd Deviation: 0.06%\n"
     ]
    }
   ],
   "source": [
    "# Initialize a list to store the scores\n",
    "scores = []\n",
    "\n",
    "for test in tests:\n",
    "    missing_columns = [col for col in features if col not in test.columns]\n",
    "\n",
    "    # Add missing columns with zero values\n",
    "    for col in missing_columns:\n",
    "        test[col] = 0\n",
    "\n",
    "# Test the UDP model with TCP-based streaming periods\n",
    "for num, test in enumerate(tests):\n",
    "    x_test = test[features]\n",
    "    y_test = test[CLASS]\n",
    "    \n",
    "    # Test the model\n",
    "    preds = model.predict(x_test)\n",
    "    score = accuracy_score(y_test, preds)\n",
    "    scores.append(score)  # Save the score\n",
    "    \n",
    "    #print(f\"[TEST N° {num}] scored accuracy = {score:.2f}%\")\n",
    "\n",
    "# Calculate and print statistics\n",
    "max_score = max(scores)\n",
    "min_score = min(scores)\n",
    "avg_score = np.mean(scores)\n",
    "std_dev   = np.std(scores)\n",
    "\n",
    "print(\"[Statitics, classifing UDP-bases HAS flows using TCP-based trained model]\")\n",
    "print(f\"\\tMax Accuracy: {max_score:.2f}%\")\n",
    "print(f\"\\tMin Accuracy: {min_score:.2f}%\")\n",
    "print(f\"\\tAvg Accuracy: {avg_score:.2f}%\")\n",
    "print(f\"\\tStd Deviation: {std_dev:.2f}%\")"
   ]
  }
 ],
 "metadata": {
  "kernelspec": {
   "display_name": ".venv",
   "language": "python",
   "name": "python3"
  },
  "language_info": {
   "codemirror_mode": {
    "name": "ipython",
    "version": 3
   },
   "file_extension": ".py",
   "mimetype": "text/x-python",
   "name": "python",
   "nbconvert_exporter": "python",
   "pygments_lexer": "ipython3",
   "version": "3.11.2"
  }
 },
 "nbformat": 4,
 "nbformat_minor": 2
}
