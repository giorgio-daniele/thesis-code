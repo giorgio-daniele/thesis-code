{
 "cells": [
  {
   "cell_type": "code",
   "execution_count": null,
   "metadata": {},
   "outputs": [],
   "source": [
    "import os\n",
    "import sklearn\n",
    "import numpy\n",
    "import seaborn\n",
    "import pandas\n",
    "import joblib\n",
    "import time\n",
    "import random\n",
    "\n",
    "# Import dictionary\n",
    "from collections import defaultdict\n",
    "\n",
    "# Decision Tree Stuff\n",
    "from sklearn.ensemble      import RandomForestClassifier\n",
    "from sklearn.metrics       import accuracy_score, f1_score, precision_score, recall_score\n",
    "from sklearn.metrics       import confusion_matrix\n",
    "from sklearn.metrics       import classification_report\n",
    "from sklearn.cluster       import KMeans\n",
    "from sklearn.preprocessing import KBinsDiscretizer\n",
    "\n",
    "# Import typing for function annotations\n",
    "from typing import Callable, List\n",
    "\n",
    "# Clustering Stuff\n",
    "from kneed import KneeLocator\n",
    "\n",
    "# Multi-threading Stuff\n",
    "from concurrent.futures import ProcessPoolExecutor\n",
    "\n",
    "# Plotting utilities\n",
    "import matplotlib.pyplot as plt"
   ]
  },
  {
   "cell_type": "code",
   "execution_count": 182,
   "metadata": {},
   "outputs": [
    {
     "name": "stdout",
     "output_type": "stream",
     "text": [
      "Libaries and versions\n",
      "----------------------------------------------------------------------------------------------------\n",
      "[skikit]:   1.5.2   \n",
      "[numpy]:    2.1.1   \n",
      "[pandas]:   2.2.3   \n"
     ]
    }
   ],
   "source": [
    "# Print library versions that are used in this notebook\n",
    "print(\"Libaries and versions\")\n",
    "print(\"-\" * 100)\n",
    "print(f\"[skikit]: {sklearn.__version__:^10}\")\n",
    "print(f\"[numpy]:  {numpy.__version__:^10}\")\n",
    "print(f\"[pandas]: {pandas.__version__:^10}\")"
   ]
  },
  {
   "cell_type": "markdown",
   "metadata": {},
   "source": [
    "### __Definitions__\n",
    "- N = number of streaming periods that are going to be used for each tested network bandwidth and inserted into the training set\n",
    "- K = number of streaming periods that are goind to be used for each tested network bandwidth\n",
    "and inserted into the testing set"
   ]
  },
  {
   "cell_type": "code",
   "execution_count": 183,
   "metadata": {},
   "outputs": [],
   "source": [
    "N = 20\n",
    "K = 5"
   ]
  },
  {
   "cell_type": "code",
   "execution_count": 184,
   "metadata": {},
   "outputs": [],
   "source": [
    "TEST_NUMBER         = \"test_number\"\n",
    "GROUND_TRUTH_CLASS  = \"rate_class\"\n",
    "PREDICTED_CLASS     = \"predicted_rate_class\"\n",
    "RATE                = \"network_bandwidth\"\n",
    "AVG_VIDEO_RATE      = \"avg_video_rate\""
   ]
  },
  {
   "cell_type": "code",
   "execution_count": 185,
   "metadata": {},
   "outputs": [],
   "source": [
    "def process_files(files: list[str], rate: str, offset: int):\n",
    "    frames = []\n",
    "    for unique_id, file in enumerate(files, start=offset):\n",
    "        frame = pandas.read_csv(file, sep=\" \").fillna(0)\n",
    "        frame[RATE] = rate\n",
    "        frame[TEST_NUMBER] = unique_id\n",
    "        frames.append(frame)\n",
    "    return frames, unique_id + 1\n",
    "\n",
    "def generate_dataset(k: int, n: int, folder: str, protocol: str, rates: list[str]):\n",
    "    training_set, testing_set = [], []\n",
    "    identifier = 0\n",
    "\n",
    "    for rate in rates:\n",
    "        path  = os.path.join(folder, rate, protocol)\n",
    "        files = [os.path.join(path, file) for file in os.listdir(path)][:n+k]\n",
    "        \n",
    "        train_files = files[:n]\n",
    "        test_files  = files[n:n+k]\n",
    "        \n",
    "        train_frames, identifier = process_files(files=train_files, rate=rate, offset=identifier)\n",
    "        test_frames,  identifier = process_files(files=test_files,  rate=rate, offset=identifier)\n",
    "\n",
    "        training_set.extend(train_frames)\n",
    "        testing_set.extend(test_frames)\n",
    "\n",
    "    return training_set, testing_set"
   ]
  },
  {
   "cell_type": "code",
   "execution_count": 186,
   "metadata": {},
   "outputs": [],
   "source": [
    "# Define the location where the dataset is\n",
    "folder = os.path.join(os.path.dirname(os.getcwd()), \"dataset\")\n",
    "\n",
    "# Define the rate of the experiments\n",
    "rates = [f\"{v}kbits\" for v in [1_500, 3_000, 4_500, 6_000, 7_500, 50_000]]\n",
    "\n",
    "# Define the protocol\n",
    "protocol = \"tcp\"\n",
    "\n",
    "# Generate the training set and the testing set for TCP\n",
    "training_set, testing_set = generate_dataset(k=K, n=N, folder=folder, protocol=protocol, rates=rates)"
   ]
  },
  {
   "cell_type": "markdown",
   "metadata": {},
   "source": [
    "### __GridSearch and Cross-Validation__\n",
    "__GridSearch__ is a technique for searching the best configuration for a model that achieves the highest performance, based on a chosen metric like macro-F1. __Cross-Validation__ helps reduce overfitting, ensuring that the model generalizes well and does not only perform well on the training data. I use both of them for selecting\n",
    "the best model, the one that score the maximum accuracy, in terms of macro-f1."
   ]
  },
  {
   "cell_type": "code",
   "execution_count": null,
   "metadata": {},
   "outputs": [],
   "source": [
    "def grid_search_cv(i: int, traning_set: list[pandas.DataFrame], configurations: list, features: list[str]):\n",
    "    results = []\n",
    "    \n",
    "    # Validation set\n",
    "    x_test  = traning_set[i][features]\n",
    "    y_test  = traning_set[i][GROUND_TRUTH_CLASS]\n",
    "\n",
    "    # Training set\n",
    "    frame = pandas.concat([traning_set[j] for j in range(len(traning_set)) if j != i], ignore_index=True)\n",
    "    x_train = frame[features]\n",
    "    y_train = frame[GROUND_TRUTH_CLASS]\n",
    "    \n",
    "    for configuration in configurations:\n",
    "        random_state      = 10\n",
    "        max_depth         = configuration[\"max_depth\"]\n",
    "        criterion         = \"entropy\"\n",
    "        min_samples_leaf  = configuration[\"min_samples_leaf\"]\n",
    "        n_estimators      = configuration[\"n_estimators\"]\n",
    "        \n",
    "        # Create the model\n",
    "        model = RandomForestClassifier(\n",
    "            random_state=random_state, max_depth=max_depth,\n",
    "            criterion=criterion, min_samples_leaf=min_samples_leaf)\n",
    "        \n",
    "        # Train the model\n",
    "        model.fit(x_train, y_train)\n",
    "        \n",
    "        # Test the model\n",
    "        predictions = model.predict(x_test)\n",
    "\n",
    "        # Compute the accuracy and other metrics\n",
    "        macro_f1 = f1_score(y_test, predictions, average=\"macro\")\n",
    "        \n",
    "        # Add the result to the list\n",
    "        results.append((model, configuration, macro_f1))\n",
    "    \n",
    "    return results"
   ]
  },
  {
   "cell_type": "markdown",
   "metadata": {},
   "source": [
    "### __Video quality binning__\n",
    "Binning is the process of discretizing continuous values into distinct categories. Since the classifier is designed to handle discrete classes rather than continuous values, the average video quality of each sample (a record in the streaming periods) must be binned. The binning strategy we follow is based on the built-in equal-frequency binning functionality provided by the Pandas library. We define three bins: \"low\", \"medium\", and \"high\"."
   ]
  },
  {
   "cell_type": "code",
   "execution_count": 188,
   "metadata": {},
   "outputs": [
    {
     "name": "stdout",
     "output_type": "stream",
     "text": [
      "[BINNING Process with Pandas qcut]\n",
      "[BIN 0] 0 - 2071.429\n",
      "[BIN 1] 2071.429 - 4400.0\n",
      "[BIN 2] 4400.0 - 8000.0\n"
     ]
    }
   ],
   "source": [
    "# Define the number of bins for equal-frequency binning\n",
    "NUM_BINS = 3\n",
    "\n",
    "# Generate the list of all average video rate in the training set frame\n",
    "rates = pandas.Series(pandas.concat(training_set, ignore_index=True)[AVG_VIDEO_RATE].tolist())\n",
    "\n",
    "# Get the maximum rate\n",
    "min_rate = 0\n",
    "max_rate = rates.max()\n",
    "\n",
    "# Slit the values into bins\n",
    "edges = pandas.qcut(rates, q=NUM_BINS)\n",
    "\n",
    "# Print a summary\n",
    "print(\"[BINNING Process with Pandas qcut]\")\n",
    "for idx, bin in enumerate(edges.dtype.categories):\n",
    "    print(f\"[BIN {idx}] {max(min_rate, bin.left)} - {min(max_rate, bin.right)}\")\n",
    "\n",
    "# Define the binning function\n",
    "def get_video_bin(kbits: float) -> int:\n",
    "    for idx, bin in enumerate(edges.dtype.categories):\n",
    "        if max(min_rate, bin.left) < kbits <= min(max_rate, bin.right):\n",
    "            return idx\n",
    "    return 0"
   ]
  },
  {
   "cell_type": "code",
   "execution_count": 189,
   "metadata": {},
   "outputs": [],
   "source": [
    "# Define feature prefixes\n",
    "v_metrics = [\"s_bytes_all\", \"c_bytes_all\", \"s_ack_cnt\", \"c_ack_cnt\", \"s_ack_cnt_p\", \"c_ack_cnt_p\"]\n",
    "t_metrics = [\"idle\", \"max_span\", \"min_span\", \"avg_span\", \"std_span\"]\n",
    "\n",
    "# Generate features for 10 intervals\n",
    "tcp_features = [f\"{metric}_#{i}\" for i in range(10) for metric in v_metrics + t_metrics]\n",
    "\n",
    "# Add outer columns\n",
    "tcp_features.extend(v_metrics + t_metrics)"
   ]
  },
  {
   "cell_type": "code",
   "execution_count": null,
   "metadata": {},
   "outputs": [],
   "source": [
    "for frame in training_set:\n",
    "    frame[GROUND_TRUTH_CLASS] = frame[AVG_VIDEO_RATE].apply(get_video_bin)\n",
    "for frame in testing_set:\n",
    "    frame[GROUND_TRUTH_CLASS] = frame[AVG_VIDEO_RATE].apply(get_video_bin)\n",
    "\n",
    "# Define the configurations\n",
    "params = [{\"min_samples_leaf\": p1, \"max_depth\": p2, \"n_estimators\": p3} for p1 in range(20, 100, 20) for p2 in range(1, 5, 1) for p3 in range(1, 100, 25)]\n",
    "\n",
    "# Run the GridSearch with CrossValidation\n",
    "results = []\n",
    "    \n",
    "# Define how many samples \n",
    "n = len(training_set)\n",
    "    \n",
    "# Measure start time\n",
    "start_time = time.time()\n",
    "    \n",
    "# Use multi-threading for running \"function\"\n",
    "with ProcessPoolExecutor(max_workers=os.cpu_count()) as executor:\n",
    "    futures = [executor.submit(grid_search_cv, i, training_set, params, tcp_features) for i in range(n)]\n",
    "    for future in futures:\n",
    "        results.extend(future.result())\n",
    "        \n",
    "# Measure end time\n",
    "end_time = time.time()\n",
    "\n",
    "# Calculate elapsed time\n",
    "elapsed_time = end_time - start_time\n",
    "\n",
    "# Convert elapsed time to minutes, seconds, and milliseconds\n",
    "minutes = int(elapsed_time // 60)\n",
    "seconds = int(elapsed_time % 60)\n",
    "millis  = int((elapsed_time * 1000) % 1000)\n",
    "\n",
    "# Print the result\n",
    "print(f\"Elapsed time: {minutes} minutes, {seconds} seconds, {millis} milliseconds\")"
   ]
  },
  {
   "cell_type": "markdown",
   "metadata": {},
   "source": [
    "### __Selection of best model__\n",
    "The best model is the one that scores the average best macro-f1 across all K folds."
   ]
  },
  {
   "cell_type": "code",
   "execution_count": null,
   "metadata": {},
   "outputs": [
    {
     "name": "stdout",
     "output_type": "stream",
     "text": [
      "Best model: DecisionTreeClassifier(criterion='entropy', max_depth=4, min_samples_leaf=40,\n",
      "                       random_state=10)\n",
      "Best score (macro-f1): 0.80698280899426\n"
     ]
    }
   ],
   "source": [
    "statistics = {}\n",
    "\n",
    "# Compute the statistics\n",
    "for model, configuration, score in results:\n",
    "    if str(configuration) not in statistics:\n",
    "        statistics[str(configuration)] = {\n",
    "            \"scores\": [],\n",
    "            \"models\": [],\n",
    "        }\n",
    "    else:\n",
    "        statistics[str(configuration)][\"scores\"].append(score)\n",
    "        statistics[str(configuration)][\"models\"].append(model)\n",
    "\n",
    "# Compute the average scores\n",
    "scores = []\n",
    "for configuration, metrics in statistics.items():\n",
    "    avg_score = sum(metrics[\"scores\"]) / len(metrics[\"scores\"])\n",
    "    scores.append({\"models\": metrics[\"models\"], \"avg_score\": avg_score})\n",
    "\n",
    "# Get the best result using the average score\n",
    "best_result = max(scores, key=lambda item: item[\"avg_score\"])\n",
    "\n",
    "# Get the best model at random\n",
    "best_model = random.choice(best_result[\"models\"])\n",
    "\n",
    "# Get the best score\n",
    "best_score = best_result[\"avg_score\"]"
   ]
  },
  {
   "cell_type": "code",
   "execution_count": null,
   "metadata": {},
   "outputs": [
    {
     "data": {
      "image/png": "[encoded data removed]",
      "text/plain": [
       "<Figure size 2000x300 with 1 Axes>"
      ]
     },
     "metadata": {},
     "output_type": "display_data"
    }
   ],
   "source": [
    "results = []\n",
    "\n",
    "# Loop over each test\n",
    "for test in testing_set:\n",
    "    numb = test[TEST_NUMBER].iloc[0]\n",
    "    rate = test[RATE].iloc[0]\n",
    "    \n",
    "    # Extract features and ground truth class\n",
    "    x = test[tcp_features]\n",
    "    y = test[GROUND_TRUTH_CLASS]\n",
    "    \n",
    "    # Test the model\n",
    "    preds = best_model.predict(x)\n",
    "    score = accuracy_score(y, preds)\n",
    "    error = 1 - score\n",
    "    \n",
    "    # Append the results to the list\n",
    "    results.append((numb, rate, score, error))\n",
    "\n",
    "# Convert results to a DataFrame for easy plotting\n",
    "statistics = pandas.DataFrame(results, columns=[\"test_number\", \"rate\", \"accuracy\", \"error\"])\n",
    "\n",
    "# Render the bar plot for accuracy\n",
    "xaxis_title = \"Test Number\"\n",
    "yaxis_title = \"Accuracy\"\n",
    "chart_title = \"Accuracy Over Testing Set\"\n",
    "\n",
    "plt.figure(figsize=(20, 3))\n",
    "bar = seaborn.barplot(x=\"test_number\", y=\"accuracy\", hue=\"rate\", data=statistics, palette=\"rainbow\")\n",
    "plt.title(chart_title)\n",
    "plt.xlabel(xaxis_title)\n",
    "plt.ylabel(yaxis_title)\n",
    "plt.axhline(y=0.85, color=\"red\", linestyle=\"--\", linewidth=1)\n",
    "plt.grid(True)\n",
    "plt.show()"
   ]
  },
  {
   "cell_type": "code",
   "execution_count": null,
   "metadata": {},
   "outputs": [
    {
     "name": "stdout",
     "output_type": "stream",
     "text": [
      "\n",
      "Top 5 Feature Importances (Sorted):\n",
      "s_bytes_all          ->       0.92\n",
      "c_bytes_all          ->       0.04\n",
      "s_ack_cnt            ->       0.02\n",
      "idle                 ->       0.01\n",
      "s_ack_cnt_p          ->       0.01\n"
     ]
    },
    {
     "data": {
      "image/png": "[encoded data removed]",
      "text/plain": [
       "<Figure size 640x480 with 2 Axes>"
      ]
     },
     "metadata": {},
     "output_type": "display_data"
    }
   ],
   "source": [
    "test = pandas.concat(testing_set, ignore_index=True)\n",
    "# Test the performance over the testing set\n",
    "x_test  = test[tcp_features]\n",
    "y_test  = test[GROUND_TRUTH_CLASS]\n",
    "    \n",
    "# Test model\n",
    "preds = best_model.predict(x_test)\n",
    "score = accuracy_score(y_test, preds)\n",
    "\n",
    "# Extract features and importance from the best model\n",
    "classes              = best_model.classes_\n",
    "features_importance  = list(best_model.feature_importances_)\n",
    "features_names       = list(best_model.feature_names_in_)\n",
    "\n",
    "# Compute the accuracy and the error rate\n",
    "accuracy   = score\n",
    "error_rate = 100 - accuracy * 100\n",
    "accuracy   = accuracy * 100 \n",
    "\n",
    "# Create confusion matrix\n",
    "matrix = confusion_matrix(y_test, preds)\n",
    "\n",
    "# Combine feature names and importance, then sort by importance in descending order\n",
    "sorted_features = sorted(zip(features_names, features_importance), key=lambda x: x[1], reverse=True)\n",
    "\n",
    "# Print the top 5 feature importances sorted by importance\n",
    "print(\"\\nTop 5 Feature Importances (Sorted):\")\n",
    "for feature, importance in sorted_features[:5]:\n",
    "    print(f\"{feature:<20} -> {importance:>10.2f}\")\n",
    "\n",
    "xaxis_title = \"Predicted Class\"\n",
    "yaxis_title = \"Real Class\"\n",
    "chart_title = f\"Confusion Matrix\\nAccuracy: {accuracy:.2f}% | Error Rate: {error_rate:.2f}%\"\n",
    "\n",
    "# Print the heatmap with the confusion matrix\n",
    "seaborn.heatmap(matrix, annot=True, fmt=\"d\", cmap=\"magma\", xticklabels=classes, yticklabels=classes)\n",
    "plt.xlabel(xaxis_title)\n",
    "plt.ylabel(yaxis_title)\n",
    "plt.title(chart_title)\n",
    "plt.show()"
   ]
  },
  {
   "cell_type": "code",
   "execution_count": null,
   "metadata": {},
   "outputs": [],
   "source": [
    "# # Select only test 121\n",
    "# test_121 = test[test[TEST_NUMBER] == 122]\n",
    "\n",
    "# # Plotting\n",
    "# plt.figure(figsize=(20, 2))\n",
    "\n",
    "# # Iterate through each row of the selected test and plot segments\n",
    "# for idx, row in test_121.iterrows():\n",
    "#     # Extract the start time (ts), end time (te), class, and ground truth\n",
    "#     ts = row['ts']\n",
    "#     te = row['te']\n",
    "#     yg = row[GROUND_TRUTH_CLASS]\n",
    "#     yp = row[PREDICTED_CLASS]\n",
    "    \n",
    "#     if yg != yp:\n",
    "#         # Plot the ground truth segment (in green)\n",
    "#         plt.plot([ts, te], [yg, yg], color='red',    lw=2, linestyle=\"--\")\n",
    "#         plt.plot([ts, te], [yp, yp], color='black',  lw=2)\n",
    "#     else:\n",
    "#         plt.plot([ts, te], [yp, yp], color='black',  lw=2)\n",
    "\n",
    "# # Add labels and title\n",
    "# plt.title(f'Segment Visualization for Test Number 121')\n",
    "# plt.xlabel('Time')\n",
    "# plt.ylabel('Class')\n",
    "\n",
    "# plt.ylim(-0.5, 2.5)\n",
    "\n",
    "# # Set x-ticks to a 1-second step\n",
    "# min_time = test_121['ts'].min()\n",
    "# max_time = test_121['te'].max()\n",
    "# plt.xticks(range(int(min_time), int(max_time) + 1, 10 * 1000))\n",
    "# plt.gca().set_xticklabels([str(i // 1000) for i in plt.gca().get_xticks()])\n",
    "\n",
    "# # Add legend\n",
    "# plt.legend()\n",
    "\n",
    "# # Show the plot\n",
    "# plt.grid(True)\n",
    "# plt.show()\n",
    "\n",
    "# # Plotting\n",
    "# plt.figure(figsize=(20, 2))\n",
    "\n",
    "# # Iterate through each row of the selected test and plot segments\n",
    "# for idx, row in test_121.iterrows():\n",
    "#     # Extract the start time (ts), end time (te), class, and ground truth\n",
    "#     ts = row['ts']\n",
    "#     te = row['te']\n",
    "#     y  = row[\"s_bytes_all\"]\n",
    "#     plt.fill_between([ts, te], [0, 0], [y, y], color='gray', alpha=0.5)\n",
    "#     plt.plot([ts, te], [y, y], color='black',  lw=2)\n",
    "\n",
    "# # Add labels and title\n",
    "# plt.title(f'Segment Visualization for Test Number 121')\n",
    "# plt.xlabel('Time')\n",
    "# plt.ylabel('Byte')\n",
    "\n",
    "# # Set x-ticks to a 1-second step\n",
    "# min_time = test_121['ts'].min()\n",
    "# max_time = test_121['te'].max()\n",
    "# plt.xticks(range(int(min_time), int(max_time) + 1, 10 * 1000))\n",
    "# plt.gca().set_xticklabels([str(i // 1000) for i in plt.gca().get_xticks()])\n",
    "# # Show the plot\n",
    "# plt.grid(True)\n",
    "# plt.show()"
   ]
  }
 ],
 "metadata": {
  "kernelspec": {
   "display_name": ".venv",
   "language": "python",
   "name": "python3"
  },
  "language_info": {
   "codemirror_mode": {
    "name": "ipython",
    "version": 3
   },
   "file_extension": ".py",
   "mimetype": "text/x-python",
   "name": "python",
   "nbconvert_exporter": "python",
   "pygments_lexer": "ipython3",
   "version": "3.11.2"
  }
 },
 "nbformat": 4,
 "nbformat_minor": 2
}
