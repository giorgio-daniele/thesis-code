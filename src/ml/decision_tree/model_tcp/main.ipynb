{
 "cells": [
  {
   "cell_type": "code",
   "execution_count": 4,
   "metadata": {},
   "outputs": [],
   "source": [
    "import os\n",
    "import pandas"
   ]
  },
  {
   "cell_type": "code",
   "execution_count": null,
   "metadata": {},
   "outputs": [
    {
     "name": "stdout",
     "output_type": "stream",
     "text": [
      "DATA SOURCE: [giorgio]\n",
      "Relative path for rate 1500kbits: /home/giorgiodaniele/Desktop/thesis-code/dazn/long_watchings/giorgio/1500kbits\n",
      "Relative path for rate 3000kbits: /home/giorgiodaniele/Desktop/thesis-code/dazn/long_watchings/giorgio/3000kbits\n",
      "Relative path for rate 4500kbits: /home/giorgiodaniele/Desktop/thesis-code/dazn/long_watchings/giorgio/4500kbits\n",
      "Relative path for rate 6000kbits: /home/giorgiodaniele/Desktop/thesis-code/dazn/long_watchings/giorgio/6000kbits\n",
      "Relative path for rate 7500kbits: /home/giorgiodaniele/Desktop/thesis-code/dazn/long_watchings/giorgio/7500kbits\n",
      "Relative path for rate 50000kbits: /home/giorgiodaniele/Desktop/thesis-code/dazn/long_watchings/giorgio/50000kbits\n",
      "\n",
      "\n",
      "DATA SOURCE: [sandra]\n",
      "Relative path for rate 1500kbits: /home/giorgiodaniele/Desktop/thesis-code/dazn/long_watchings/sandra/1500kbits\n",
      "Relative path for rate 3000kbits: /home/giorgiodaniele/Desktop/thesis-code/dazn/long_watchings/sandra/3000kbits\n",
      "Relative path for rate 4500kbits: /home/giorgiodaniele/Desktop/thesis-code/dazn/long_watchings/sandra/4500kbits\n",
      "Relative path for rate 6000kbits: /home/giorgiodaniele/Desktop/thesis-code/dazn/long_watchings/sandra/6000kbits\n",
      "Relative path for rate 7500kbits: /home/giorgiodaniele/Desktop/thesis-code/dazn/long_watchings/sandra/7500kbits\n",
      "Relative path for rate 50000kbits: /home/giorgiodaniele/Desktop/thesis-code/dazn/long_watchings/sandra/50000kbits\n",
      "\n",
      "\n"
     ]
    }
   ],
   "source": [
    "# Define data source\n",
    "sources = [\"giorgio\", \"sandra\"]\n",
    "\n",
    "# Define the rate of the experiments\n",
    "rates = [\"1500kbits\", \"3000kbits\", \"4500kbits\", \"6000kbits\", \"7500kbits\", \"50000kbits\"]\n",
    "\n",
    "# Define the main folder\n",
    "prefix = \"/home/giorgiodaniele/Desktop/thesis-code/dazn/long_watchings\"\n",
    "\n",
    "# Define the provider\n",
    "server = \"dazn\"\n",
    "\n",
    "\n",
    "for source in sources:\n",
    "    print(f\"DATA SOURCE: [{source}]\")\n",
    "    path = os.path.join(server, prefix, source)\n",
    "    for rate in rates:\n",
    "        fold = os.path.join(path, rate)\n",
    "        if os.path.exists(fold):\n",
    "            print(fold)\n",
    "    print(\"\\n\")"
   ]
  }
 ],
 "metadata": {
  "kernelspec": {
   "display_name": ".venv",
   "language": "python",
   "name": "python3"
  },
  "language_info": {
   "codemirror_mode": {
    "name": "ipython",
    "version": 3
   },
   "file_extension": ".py",
   "mimetype": "text/x-python",
   "name": "python",
   "nbconvert_exporter": "python",
   "pygments_lexer": "ipython3",
   "version": "3.11.2"
  }
 },
 "nbformat": 4,
 "nbformat_minor": 2
}
